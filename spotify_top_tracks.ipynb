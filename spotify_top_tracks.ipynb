{
 "cells": [
  {
   "cell_type": "code",
   "execution_count": 1,
   "metadata": {},
   "outputs": [],
   "source": [
    "import numpy as np\n",
    "import pandas as pd\n",
    "import matplotlib.pyplot as plt\n",
    "import requests"
   ]
  },
  {
   "cell_type": "code",
   "execution_count": 2,
   "metadata": {},
   "outputs": [],
   "source": [
    "import spotipy\n",
    "import spotipy.util as util\n",
    "from spotipy.oauth2 import SpotifyClientCredentials"
   ]
  },
  {
   "cell_type": "code",
   "execution_count": 3,
   "metadata": {},
   "outputs": [],
   "source": [
    "cid = \n",
    "csecret = "
   ]
  },
  {
   "cell_type": "code",
   "execution_count": 4,
   "metadata": {},
   "outputs": [],
   "source": [
    "uid='jesjes354'"
   ]
  },
  {
   "cell_type": "code",
   "execution_count": 6,
   "metadata": {},
   "outputs": [
    {
     "name": "stdout",
     "output_type": "stream",
     "text": [
      "\n",
      "\n",
      "            User authentication requires interaction with your\n",
      "            web browser. Once you enter your credentials and\n",
      "            give authorization, you will be redirected to\n",
      "            a url.  Paste that url you were directed to to\n",
      "            complete the authorization.\n",
      "\n",
      "        \n",
      "Opened https://accounts.spotify.com/authorize?client_id=d6495ca01f17418697b138a6d76425b3&response_type=code&redirect_uri=https%3A%2F%2Fgithub.com%2Fjessimk&scope=user-top-read in your browser\n",
      "\n",
      "\n",
      "Enter the URL you were redirected to: https://github.com/jessimk?code=AQA9pEu6zUc6x44izbeXKeBkbB4RY1figHKtWf4XUyQp7OgWg2t8zlW83w_IKOkyrgsjK_boJsIqaZiGtonVFLBwEZVNZkxdOoS_CfXUhBh1wRQag9hzkOJFge-VgWod0nbvMBkuSNyvRIvhYJu7kP7fQUoci-sL_JYBXj2nnp11OfnMubWiTmVkjKKq2m4O7eY0g75O28wfQtzkKobx\n",
      "\n",
      "\n"
     ]
    }
   ],
   "source": [
    "#https://towardsdatascience.com/playlist-classification-on-spotify-using-knn-and-naive-bayes-classification-35a279b7e255\n",
    "\n",
    "client_credentials_manager = SpotifyClientCredentials(client_id=cid, \n",
    "                                                      client_secret=csecret) \n",
    "scope = 'user-top-read'\n",
    "redirect_uri=\"https://github.com/jessimk\"\n",
    "try:\n",
    "    token = util.prompt_for_user_token(uid, scope, \n",
    "                                       client_id=cid, \n",
    "                                       client_secret=csecret, \n",
    "                                       redirect_uri=redirect_uri)  \n",
    "    sp=spotipy.Spotify(auth= token)\n",
    "except:\n",
    "    print('Token is not accesible for ' + uid)"
   ]
  },
  {
   "cell_type": "code",
   "execution_count": 9,
   "metadata": {},
   "outputs": [],
   "source": [
    "top3 = sp.current_user_top_tracks(limit=2, offset=0, time_range=\"short_term\")"
   ]
  },
  {
   "cell_type": "code",
   "execution_count": 21,
   "metadata": {},
   "outputs": [
    {
     "data": {
      "text/plain": [
       "'Shawn Mendes'"
      ]
     },
     "execution_count": 21,
     "metadata": {},
     "output_type": "execute_result"
    }
   ],
   "source": [
    "top3['items'][0]['album']['name']"
   ]
  },
  {
   "cell_type": "code",
   "execution_count": 29,
   "metadata": {},
   "outputs": [
    {
     "data": {
      "text/plain": [
       "'Shawn Mendes'"
      ]
     },
     "execution_count": 29,
     "metadata": {},
     "output_type": "execute_result"
    }
   ],
   "source": [
    "top3['items'][0]['album']['artists'][0]['name']"
   ]
  },
  {
   "cell_type": "code",
   "execution_count": 23,
   "metadata": {},
   "outputs": [
    {
     "data": {
      "text/plain": [
       "'2018-05-25'"
      ]
     },
     "execution_count": 23,
     "metadata": {},
     "output_type": "execute_result"
    }
   ],
   "source": [
    "top3['items'][0]['album']['release_date']"
   ]
  },
  {
   "cell_type": "code",
   "execution_count": 30,
   "metadata": {},
   "outputs": [
    {
     "data": {
      "text/plain": [
       "'Lost In Japan'"
      ]
     },
     "execution_count": 30,
     "metadata": {},
     "output_type": "execute_result"
    }
   ],
   "source": [
    "top3['items'][0]['name']"
   ]
  },
  {
   "cell_type": "code",
   "execution_count": 33,
   "metadata": {},
   "outputs": [
    {
     "data": {
      "text/plain": [
       "201200"
      ]
     },
     "execution_count": 33,
     "metadata": {},
     "output_type": "execute_result"
    }
   ],
   "source": [
    "top3['items'][0]['duration_ms']"
   ]
  },
  {
   "cell_type": "code",
   "execution_count": 34,
   "metadata": {},
   "outputs": [
    {
     "data": {
      "text/plain": [
       "81"
      ]
     },
     "execution_count": 34,
     "metadata": {},
     "output_type": "execute_result"
    }
   ],
   "source": [
    "top3['items'][0]['popularity']"
   ]
  },
  {
   "cell_type": "code",
   "execution_count": 35,
   "metadata": {},
   "outputs": [
    {
     "data": {
      "text/plain": [
       "'79esEXlqqmq0GPz0xQSZTV'"
      ]
     },
     "execution_count": 35,
     "metadata": {},
     "output_type": "execute_result"
    }
   ],
   "source": [
    "top3['items'][0]['id']"
   ]
  },
  {
   "cell_type": "code",
   "execution_count": 32,
   "metadata": {},
   "outputs": [
    {
     "data": {
      "text/plain": [
       "False"
      ]
     },
     "execution_count": 32,
     "metadata": {},
     "output_type": "execute_result"
    }
   ],
   "source": [
    "top3['items'][0]['explicit']"
   ]
  },
  {
   "cell_type": "code",
   "execution_count": null,
   "metadata": {},
   "outputs": [],
   "source": [
    "#https://github.com/jessimk/525/blob/master/DSCI_525_lab1_jess354-master/lab1.md\n",
    "df = pd.DataFrame({\"album_name\": [], \"album_artist\": [], \"album_release_dt\": [], \"track_artist\": [],\n",
    "                  \"track_name\": [], \"track_dur_ms\": [], \"track_popularity\": [], \"track_id\": [],\n",
    "                    \"track_explicit\": []})\n",
    "row = []\n",
    "df = []\n",
    "for i,entry in enumerate(tables[0].find_all(\"td\")):\n",
    "    row.append(entry.text)\n",
    "    if (i+1)%3 == 0:\n",
    "        df.append(row)\n",
    "        row = []\n",
    "\n",
    "df = pd.DataFrame(df, columns = [\"n_titles\", \"team\", \"years\"])\n",
    "df"
   ]
  }
 ],
 "metadata": {
  "kernelspec": {
   "display_name": "Python 3",
   "language": "python",
   "name": "python3"
  },
  "language_info": {
   "codemirror_mode": {
    "name": "ipython",
    "version": 3
   },
   "file_extension": ".py",
   "mimetype": "text/x-python",
   "name": "python",
   "nbconvert_exporter": "python",
   "pygments_lexer": "ipython3",
   "version": "3.7.4"
  }
 },
 "nbformat": 4,
 "nbformat_minor": 2
}
